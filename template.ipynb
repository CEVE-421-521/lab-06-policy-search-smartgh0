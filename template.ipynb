{
  "cells": [
    {
      "cell_type": "raw",
      "metadata": {},
      "source": [
        "---\n",
        "title: 'Lab 6: Policy Search'\n",
        "author: Solomon(netID)\n",
        "date: '2024-03-08'\n",
        "week: 7\n",
        "categories:\n",
        "  - Lab\n",
        "format:\n",
        "  html: default\n",
        "  docx:\n",
        "    toc: true\n",
        "    fig-format: png\n",
        "    number-sections: true\n",
        "    code-line-numbers: true\n",
        "date-format: 'ddd., MMM. D'\n",
        "execute:\n",
        "  freeze: auto\n",
        "bibliography: references.bib\n",
        "---"
      ],
      "id": "a830cf1a"
    },
    {
      "cell_type": "code",
      "metadata": {},
      "source": [
        "using Revise\n",
        "using HouseElevation\n",
        "\n",
        "using CSV\n",
        "using DataFrames\n",
        "using DataFramesMeta\n",
        "using Distributions\n",
        "using LaTeXStrings\n",
        "using Metaheuristics\n",
        "using Plots\n",
        "using Random\n",
        "using Unitful\n",
        "using HouseElevation\n",
        "\n",
        "Plots.default(; margin=5Plots.mm)"
      ],
      "id": "de022ae2",
      "execution_count": null,
      "outputs": []
    },
    {
      "cell_type": "code",
      "metadata": {},
      "source": [
        "    slr_scenarios = let\n",
        "        df = CSV.read(\"data/slr_oddo.csv\", DataFrame)\n",
        "        [Oddo17SLR(a, b, c, tstar, cstar) for (a, b, c, tstar, cstar) in eachrow(df)]\n",
        "    end\n",
        "\n",
        "    house = let\n",
        "        haz_fl_dept = CSV.read(\"data/haz_fl_dept.csv\", DataFrame) # read in the file\n",
        "        row = @rsubset(haz_fl_dept, :DmgFnId .== 56)[1, :] # selecting ID\n",
        "        area = 2406u\"ft^2\" \n",
        "        \n",
        "        House(\n",
        "            row;\n",
        "            area=area,\n",
        "            height_above_gauge=2u\"ft\",\n",
        "            value_usd=506_600,\n",
        "        )\n",
        "    end;\n",
        "\n",
        "    p = ModelParams(; house=house, years=2024:2100)\n",
        "\n",
        "    function draw_surge_distribution() # storm surge distribution\n",
        "        μ = rand(Normal(5, 1))\n",
        "        σ = rand(Exponential(1.5))\n",
        "        ξ = rand(Normal(0.1, 0.05))\n",
        "        return GeneralizedExtremeValue(μ, σ, ξ)\n",
        "    end\n",
        "\n",
        "    function draw_discount_rate() #drawing discounts rates\n",
        "        rate = rand(Normal(0.05, 0.02)) \n",
        "        return max(0.0, rate) \n",
        "    end\n",
        "\n",
        "    N_SOW = 100#_000\n",
        "\n",
        "    sows = [\n",
        "        SOW(rand(slr_scenarios), draw_surge_distribution(), draw_discount_rate()) for\n",
        "        _ in 1:N_SOW #generating random state of the world\n",
        "    ];"
      ],
      "id": "f17a8e1a",
      "execution_count": null,
      "outputs": []
    },
    {
      "cell_type": "markdown",
      "metadata": {},
      "source": [
        "# Objective Function\n"
      ],
      "id": "76f870b0"
    },
    {
      "cell_type": "code",
      "metadata": {},
      "source": [
        "function objective_function(a::AbstractFloat)\n",
        "    Random.seed!(2024)\n",
        "    sow = first(sows)\n",
        "    a_action = Action(a * 1u\"ft\")\n",
        "    npv = [run_sim(a_action, s, p) for s in sows]\n",
        "    return -sum(npv)  # Minimize NPV by negating sum\n",
        "end\n"
      ],
      "id": "8f1875ab",
      "execution_count": null,
      "outputs": []
    },
    {
      "cell_type": "code",
      "metadata": {},
      "source": [
        "# Generate a range of elevations for  testing objective function\n",
        "test_elevations = 0:1.0:5\n",
        "for elevation in test_elevations\n",
        "  obj_value = objective_function(elevation, first(sows), p)  # Use first SOW for testing\n",
        "  println(\"Elevation: $elevation ft, npv: $obj_value\")\n",
        "end\n"
      ],
      "id": "2c525691",
      "execution_count": null,
      "outputs": []
    },
    {
      "cell_type": "markdown",
      "metadata": {},
      "source": [
        "# Constriants\n"
      ],
      "id": "904acf14"
    },
    {
      "cell_type": "code",
      "metadata": {},
      "source": [
        "bounds = boxconstraints(;lb=1.0, ub=14.0)\n",
        "options = Options(; time_limit=10.0)\n",
        "algorithm = ECA(; options=options)"
      ],
      "id": "039d8499",
      "execution_count": null,
      "outputs": []
    },
    {
      "cell_type": "markdown",
      "metadata": {},
      "source": [
        "# Optimization\n",
        "\n",
        "\n",
        "```julia\n",
        "\n",
        "Random.seed!(2024)\n",
        "result = optimize(objective_function, bounds, algorithm)\n",
        "```\n",
        "# Ploting \n"
      ],
      "id": "8dfdfb4a"
    },
    {
      "cell_type": "code",
      "metadata": {},
      "source": [
        "using Plots\n",
        "\n",
        "function objective_function(a::AbstractFloat, sow, p)\n",
        "  a_action = Action(a * u\"ft\")\n",
        "  npv = [run_sim(a_action, s, p) for s in sows]\n",
        "  return -sum(npv)  # Minimize NPV by negating sum\n",
        "end\n",
        "# Plot the objective function\n",
        "elevation_range = 0:0.1:14\n",
        "objective_values_all = [objective_function(elev, sows, p) for elev in elevation_range]\n",
        "\n",
        "plot(elevation_range, objective_values_all, xlabel=\"Elevation (ft)\", ylabel=\"npv\",\n",
        "     label=\"Objective Function\", legend=:bottomright)\n",
        "\n",
        "# Display the plot\n"
      ],
      "id": "f4834597",
      "execution_count": null,
      "outputs": []
    },
    {
      "cell_type": "markdown",
      "metadata": {},
      "source": [
        "# Analysis and Comments\n",
        "\n",
        "- The optimization algorithm  converges  when N_SOW_opt is increased. \n",
        "\n",
        "- The analysis considers a finite number of SOWs, each represented by sea level rise, surge distribution and discount rate PDS. The main objective is to optimize the elevation decision that will return minimum npv.\n",
        "\n",
        "- Discount rate, storm surge, and sea level rise  are assummed to be the only source of uncertain associated with our objective function which make it easy to optimize the main objective in the analysis. However real world scenarios, there are other sorces of uncertainty such as uncertainty associated  lifespan of the house, the depth-damage curve, probabibility of flood occuring. \n",
        "\n",
        "- The use of a finite number of SOWs introduces a trade-off between computation efficiency and the accuracy of the optimization solution. Averaging over SOWs is a way to handle uncertainty in decision-making when there is less computer power.\n",
        "\n",
        "-  The decision parameter elevating the house is the only parameter being optimized in this work. Future analysis should consider also optimizing the discount rate, surge distribution and the sea level rise. \n",
        "\n",
        "- Future work should  consider more than one optimization algorithm or model for the analysis to see which one works best. \n"
      ],
      "id": "db221858"
    }
  ],
  "metadata": {
    "kernelspec": {
      "name": "julia-1.10",
      "language": "julia",
      "display_name": "Julia 1.10.2"
    }
  },
  "nbformat": 4,
  "nbformat_minor": 5
}